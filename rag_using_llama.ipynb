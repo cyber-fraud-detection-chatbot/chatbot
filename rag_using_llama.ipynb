{
 "cells": [
  {
   "cell_type": "code",
   "execution_count": 1,
   "id": "255dc609-2efa-425c-a222-7a288ef9b732",
   "metadata": {},
   "outputs": [],
   "source": [
    "# Setting up async IO handling in notebook to prevent runtime errors with async operations\n",
    "import nest_asyncio\n",
    "nest_asyncio.apply()"
   ]
  },
  {
   "cell_type": "code",
   "execution_count": 2,
   "id": "b26cfc7b-f11d-4dfa-9b0f-638e419beb3d",
   "metadata": {},
   "outputs": [],
   "source": [
    "# setting up vector database client\n",
    "\n",
    "import qdrant_client\n",
    "\n",
    "collection_name=\"demo1\"\n",
    "\n",
    "client = qdrant_client.QdrantClient(\n",
    "    host=\"localhost\",\n",
    "    port=6333\n",
    ")"
   ]
  },
  {
   "cell_type": "code",
   "execution_count": 3,
   "id": "82f503e3-871a-44b4-9421-5d011bdfddc5",
   "metadata": {},
   "outputs": [],
   "source": [
    "# Loading Documents\n",
    "\n",
    "from llama_index.core import SimpleDirectoryReader\n",
    "\n",
    "input_dir_path = './'\n",
    "\n",
    "loader = SimpleDirectoryReader(\n",
    "            input_dir = input_dir_path,\n",
    "            required_exts=[\".pdf\"],\n",
    "            recursive=True\n",
    "        )\n",
    "docs = loader.load_data()"
   ]
  },
  {
   "cell_type": "code",
   "execution_count": 4,
   "id": "e41b7f10-5de3-4676-8dc4-c927a410fff9",
   "metadata": {},
   "outputs": [
    {
     "data": {
      "text/plain": [
       "Document(id_='abdab856-65a8-4686-b6e3-d6393e076e97', embedding=None, metadata={'page_label': '1', 'file_name': 'fraud_scenarios.pdf', 'file_path': 'D:\\\\Personal Folder\\\\Vijender Project\\\\cyber-fraud-detection-chatbot\\\\fraud_scenarios.pdf', 'file_type': 'application/pdf', 'file_size': 45982, 'creation_date': '2025-02-10', 'last_modified_date': '2025-02-10'}, excluded_embed_metadata_keys=['file_name', 'file_type', 'file_size', 'creation_date', 'last_modified_date', 'last_accessed_date'], excluded_llm_metadata_keys=['file_name', 'file_type', 'file_size', 'creation_date', 'last_modified_date', 'last_accessed_date'], relationships={}, metadata_template='{key}: {value}', metadata_separator='\\n', text_resource=MediaResource(embeddings=None, data=None, text=\"Scenario  1:  I  received  an  email  stating  that  I  won  a  lottery.  I  am  being  asked  to  provide  \\ndocuments.\\n Remediation:  Do  not  respond  to  the  email  or  share  any  documents.  This  is  a  classic  lottery  \\nscam\\n \\nattempting\\n \\nto\\n \\nsteal\\n \\nyour\\n \\ninformation.\\n Points  of  contact:  Cyber  Crime  Portal  (cybercrime.gov.in)  or  call  National  Cybercrime  Helpline  \\n1930\\n  Scenario  2:  Someone  called  claiming  to  be  from  my  bank  requesting  my  OTP  to  update  KYC.  Remediation:  Banks  never  ask  for  OTP  over  phone.  Never  share  OTP/PIN/CVV  with  anyone.  Points  of  contact:  File  complaint  with  local  cyber  police  station  and  call  bank's  official  fraud  \\nhelpline\\n  Scenario  3:  Received  SMS  about  my  bank  account  being  blocked,  asking  to  click  a  link.  Remediation:  Don't  click  on  suspicious  links.  Access  your  bank  account  directly  through  official  \\nwebsite/app.\\n Points  of  contact:  Report  to  National  Cyber  Crime  Reporting  Portal  or  call  1930   Scenario  4:  Got  investment  scheme  promising  50%  returns  in  3  months  via  WhatsApp.  Remediation:  Avoid  unrealistic  investment  schemes.  Verify  with  SEBI  registered  advisors.  Points  of  contact:  SEBI  toll  free  helpline  1800  22  7575   Scenario  5:  Someone  called  pretending  to  be  tech  support  saying  my  computer  is  infected.  Remediation:  Don't  allow  remote  access  to  your  computer.  Legitimate  tech  support  won't  call  \\nunsolicited.\\n Points  of  contact:  File  FIR  at  local  police  station  and  report  to  cert-in.org.in   Scenario  6:  Received  job  offer  requiring  payment  for  registration/training.  Remediation:  Legitimate  employers  don't  ask  for  money.  Research  company  thoroughly  before  \\nproceeding.\\n Points  of  contact:  Report  to  Ministry  of  Labour  &  Employment  portal  (labour.gov.in)   Scenario  7:  Dating  profile  asking  to  transfer  money  for  emergency/travel  expenses.  Remediation:  Never  send  money  to  online  romantic  interests.  These  are  romance  scams.  Points  of  contact:  Women's  Helpline  1091  or  Cyber  Crime  Helpline  1930   Scenario  8:  Received  call  about  winning  a  lucky  draw  from  online  shopping  site.  Remediation:  Legitimate  e-commerce  sites  don't  conduct  lucky  draws  via  phone.  Hang  up  \\nimmediately.\\n Points  of  contact:  Report  to  Consumer  Affairs  helpline  1915   Scenario  9:  Got  message  about  cryptocurrency  investment  with  guaranteed  returns.  Remediation:  Avoid  unregulated  crypto  schemes.  Only  invest  through  legitimate  exchanges.  Points  of  contact:  RBI  Customer  Care  14440  or  Cyber  Crime  Helpline  1930   \", path=None, url=None, mimetype=None), image_resource=None, audio_resource=None, video_resource=None, text_template='{metadata_str}\\n\\n{content}')"
      ]
     },
     "execution_count": 4,
     "metadata": {},
     "output_type": "execute_result"
    }
   ],
   "source": [
    "# visualizing document\n",
    "docs[0]"
   ]
  },
  {
   "cell_type": "code",
   "execution_count": 5,
   "id": "94d8034a-9d41-4d28-accd-28a43f9fe9a2",
   "metadata": {},
   "outputs": [],
   "source": [
    "\"\"\"Creating index using new documents\"\"\"\n",
    "\n",
    "from llama_index.core.node_parser import SimpleNodeParser\n",
    "from llama_index.core import Settings, VectorStoreIndex, StorageContext\n",
    "from llama_index.embeddings.huggingface import HuggingFaceEmbedding\n",
    "from llama_index.vector_stores.qdrant import QdrantVectorStore\n",
    "\n",
    "# initializing embeding model\n",
    "embed_model = HuggingFaceEmbedding(model_name=\"BAAI/bge-large-en-v1.5\",\n",
    "                                  trust_remote_code=True)\n",
    "\n",
    "# initializing node_parser deciding how data chunks would be created\n",
    "node_parser = SimpleNodeParser.from_defaults(\n",
    "    chunk_size=512,\n",
    "    chunk_overlap=128\n",
    ")\n",
    "\n",
    "# setting up embeding model and node_parser\n",
    "Settings.embed_model = embed_model\n",
    "Settings.node_parser = node_parser\n",
    "\n",
    "# creating index for similarity search from documents\n",
    "def create_index(documents):\n",
    "    vector_store = QdrantVectorStore(client=client, collection_name=collection_name)\n",
    "    storage_context = StorageContext.from_defaults(vector_store=vector_store)\n",
    "    index = VectorStoreIndex.from_documents(documents,\n",
    "                                          storage_context=storage_context,\n",
    "                                           )\n",
    "    \n",
    "    return index\n",
    "    \n",
    "index = create_index(docs)\n"
   ]
  },
  {
   "cell_type": "code",
   "execution_count": 6,
   "id": "b95bdbdd-a565-4bc9-9469-3d8944a18f5f",
   "metadata": {},
   "outputs": [
    {
     "data": {
      "text/plain": [
       "'\\nfrom llama_index.core import Settings, VectorStoreIndex\\nfrom llama_index.embeddings.huggingface import HuggingFaceEmbedding\\nfrom llama_index.vector_stores.qdrant import QdrantVectorStore\\n\\n# initializing embeding model\\nembed_model = HuggingFaceEmbedding(model_name=\"BAAI/bge-large-en-v1.5\",\\n                                  trust_remote_code=True)\\n\\n# setting up embeding model and node_parser\\nSettings.embed_model = embed_model\\n\\n\\n# creating index for similarity search from existing collection\\n\\ndef index_from_vector_store(vector_store):\\n    \\n    index = VectorStoreIndex.from_vector_store(vector_store=vector_store                                      \\n                                           )\\n    return index\\n\\n\\nvector_store = QdrantVectorStore(client=client, collection_name=collection_name)    \\nindex = index_from_vector_store(vector_store)\\n'"
      ]
     },
     "execution_count": 6,
     "metadata": {},
     "output_type": "execute_result"
    }
   ],
   "source": [
    "\"\"\"creating index using existing collection\"\"\"\n",
    "\"\"\"\n",
    "from llama_index.core import Settings, VectorStoreIndex\n",
    "from llama_index.embeddings.huggingface import HuggingFaceEmbedding\n",
    "from llama_index.vector_stores.qdrant import QdrantVectorStore\n",
    "\n",
    "# initializing embeding model\n",
    "embed_model = HuggingFaceEmbedding(model_name=\"BAAI/bge-large-en-v1.5\",\n",
    "                                  trust_remote_code=True)\n",
    "\n",
    "# setting up embeding model and node_parser\n",
    "Settings.embed_model = embed_model\n",
    "\n",
    "\n",
    "# creating index for similarity search from existing collection\n",
    "\n",
    "def index_from_vector_store(vector_store):\n",
    "    \n",
    "    index = VectorStoreIndex.from_vector_store(vector_store=vector_store                                      \n",
    "                                           )\n",
    "    return index\n",
    "\n",
    "\n",
    "vector_store = QdrantVectorStore(client=client, collection_name=collection_name)    \n",
    "index = index_from_vector_store(vector_store)\n",
    "\"\"\""
   ]
  },
  {
   "cell_type": "code",
   "execution_count": 7,
   "id": "cc0a742b-fa7d-4642-9d72-a5e95284218e",
   "metadata": {},
   "outputs": [],
   "source": [
    "# initializing and setting up LLM to use\n",
    "\n",
    "from llama_index.llms.ollama import Ollama\n",
    "\n",
    "llm = Ollama(model=\"llama3.2:1b\", request_timeout=120.0)\n",
    "\n",
    "Settings.llm = llm"
   ]
  },
  {
   "cell_type": "code",
   "execution_count": 8,
   "id": "faf21245-ce73-4075-9eed-b35029d1ffd4",
   "metadata": {},
   "outputs": [],
   "source": [
    "# setting up query engine\n",
    "\n",
    "# from llama_index.core import get_response_synthesizer\n",
    "from llama_index.core.postprocessor import SentenceTransformerRerank\n",
    "\n",
    "# reranking initially retrieved chunks/vectors based on relevancy\n",
    "rerank = SentenceTransformerRerank(\n",
    "    model=\"cross-encoder/ms-marco-MiniLM-L-2-v2\", \n",
    "    top_n=3\n",
    ")\n",
    "# retrieving top_k similar chunks/vectors\n",
    "query_engine = index.as_query_engine(\n",
    "    similarity_top_k=10,\n",
    "    node_postprocessors=[rerank]\n",
    ")"
   ]
  },
  {
   "cell_type": "code",
   "execution_count": 9,
   "id": "c9297b43-31df-403c-9705-f8787bb0090c",
   "metadata": {},
   "outputs": [],
   "source": [
    "# creating prompt template for context and query\n",
    "\n",
    "from llama_index.core import PromptTemplate\n",
    "\n",
    "template = \"\"\"Context information is below:\n",
    "              ---------------------\n",
    "              {context_str}\n",
    "              ---------------------\n",
    "              Based on the context above, analyze the query and provide the response in the following format:\n",
    "              \n",
    "              Scenario: [Describe the situation from matching context]\n",
    "              Remediation: [Provide specific prevention/remediation steps]\n",
    "              Points of contact: [List relevant contact information/helplines]\n",
    "              \n",
    "              If no relevant information is found in the context, respond with \"No matching scenario found.\"\n",
    "              \n",
    "              Query: {query_str}\n",
    "              \n",
    "              Response:\"\"\"\n",
    "\n",
    "qa_prompt_tmpl = PromptTemplate(template)\n",
    "\n",
    "# Update query engine with new template\n",
    "query_engine.update_prompts(\n",
    "    {\"response_synthesizer:text_qa_template\": qa_prompt_tmpl}\n",
    ")"
   ]
  },
  {
   "cell_type": "code",
   "execution_count": 10,
   "id": "12091bdb-3167-4313-a75f-1c1b2557f99b",
   "metadata": {},
   "outputs": [],
   "source": [
    "# Input query and save response\n",
    "response = query_engine.query(\"Received job offer requiring payment for registration/training. What are the points of Contact?\")"
   ]
  },
  {
   "cell_type": "code",
   "execution_count": 11,
   "id": "6b3aaccb-de00-47f6-aa8b-635db3186909",
   "metadata": {},
   "outputs": [
    {
     "data": {
      "text/markdown": [
       "Scenario: Received job offer requiring payment for registration/training.\n",
       "\n",
       "Remediation: Legitimate employers don't ask for money. Research company thoroughly before proceeding.\n",
       "\n",
       "Points of contact: Report to Ministry of Labour & Employment portal (labour.gov.in)"
      ],
      "text/plain": [
       "<IPython.core.display.Markdown object>"
      ]
     },
     "metadata": {},
     "output_type": "display_data"
    }
   ],
   "source": [
    "from IPython.display import Markdown, display\n",
    "\n",
    "display(Markdown(str(response)))"
   ]
  },
  {
   "cell_type": "code",
   "execution_count": 12,
   "id": "554b8851-5009-4bad-9e22-3e32ae6f535e",
   "metadata": {},
   "outputs": [
    {
     "name": "stdout",
     "output_type": "stream",
     "text": [
      "\n",
      "Retrieved chunks:\n",
      "\n",
      "Chunk 1:\n",
      "Remediation:  Avoid  unrealistic  investment  schemes.  Verify  with  SEBI  registered  advisors.  Points  of  contact:  SEBI  toll  free  helpline  1800  22  7575   Scenario  5:  Someone  called  pretending  to  be  tech  support  saying  my  computer  is  infected.  Remediation:  Don't  allow  remote  access  to  your  computer.  Legitimate  tech  support  won't  call  \n",
      "unsolicited.\n",
      " Points  of  contact:  File  FIR  at  local  police  station  and  report  to  cert-in.org.in   Scenario  6:  Received  job  offer  requiring  payment  for  registration/training.  Remediation:  Legitimate  employers  don't  ask  for  money.  Research  company  thoroughly  before  \n",
      "proceeding.\n",
      " Points  of  contact:  Report  to  Ministry  of  Labour  &  Employment  portal  (labour.gov.in)   Scenario  7:  Dating  profile  asking  to  transfer  money  for  emergency/travel  expenses.  Remediation:  Never  send  money  to  online  romantic  interests.  These  are  romance  scams.  Points  of  contact:  Women's  Helpline  1091  or  Cyber  Crime  Helpline  1930   Scenario  8:  Received  call  about  winning  a  lucky  draw  from  online  shopping  site.  Remediation:  Legitimate  e-commerce  sites  don't  conduct  lucky  draws  via  phone.  Hang  up  \n",
      "immediately.\n",
      " Points  of  contact:  Report  to  Consumer  Affairs  helpline  1915   Scenario  9:  Got  message  about  cryptocurrency  investment  with  guaranteed  returns.  Remediation:  Avoid  unregulated  crypto  schemes.  Only  invest  through  legitimate  exchanges.\n",
      "\n",
      "Chunk 2:\n",
      "Scenario  1:  I  received  an  email  stating  that  I  won  a  lottery.  I  am  being  asked  to  provide  \n",
      "documents.\n",
      " Remediation:  Do  not  respond  to  the  email  or  share  any  documents.  This  is  a  classic  lottery  \n",
      "scam\n",
      " \n",
      "attempting\n",
      " \n",
      "to\n",
      " \n",
      "steal\n",
      " \n",
      "your\n",
      " \n",
      "information.\n",
      " Points  of  contact:  Cyber  Crime  Portal  (cybercrime.gov.in)  or  call  National  Cybercrime  Helpline  \n",
      "1930\n",
      "  Scenario  2:  Someone  called  claiming  to  be  from  my  bank  requesting  my  OTP  to  update  KYC.  Remediation:  Banks  never  ask  for  OTP  over  phone.  Never  share  OTP/PIN/CVV  with  anyone.  Points  of  contact:  File  complaint  with  local  cyber  police  station  and  call  bank's  official  fraud  \n",
      "helpline\n",
      "  Scenario  3:  Received  SMS  about  my  bank  account  being  blocked,  asking  to  click  a  link.  Remediation:  Don't  click  on  suspicious  links.  Access  your  bank  account  directly  through  official  \n",
      "website/app.\n",
      " Points  of  contact:  Report  to  National  Cyber  Crime  Reporting  Portal  or  call  1930   Scenario  4:  Got  investment  scheme  promising  50%  returns  in  3  months  via  WhatsApp.  Remediation:  Avoid  unrealistic  investment  schemes.  Verify  with  SEBI  registered  advisors.  Points  of  contact:  SEBI  toll  free  helpline  1800  22  7575   Scenario  5:  Someone  called  pretending  to  be  tech  support  saying  my  computer  is  infected.  Remediation:  Don't  allow  remote  access  to  your  computer.\n",
      "\n",
      "Chunk 3:\n",
      "Scenario  10:  Someone  impersonating  a  relative  asking  for  urgent  money  transfer.  Remediation:  Verify  directly  with  family  member  using  known  contact  number  before  sending  \n",
      "money.\n",
      " Points  of  contact:  District  Cyber  Crime  Unit  or  National  Helpline  1930\n"
     ]
    }
   ],
   "source": [
    "# retrieving relevant chunks for the response\n",
    "def print_source_nodes(response):\n",
    "    source_nodes = response.source_nodes\n",
    "    print(\"\\nRetrieved chunks:\")\n",
    "    for i, node in enumerate(source_nodes):\n",
    "        print(f\"\\nChunk {i+1}:\")\n",
    "        print(node.text)\n",
    "\n",
    "print_source_nodes(response)"
   ]
  }
 ],
 "metadata": {
  "kernelspec": {
   "display_name": "LI_Qdrant",
   "language": "python",
   "name": "venv_li_qdrant"
  },
  "language_info": {
   "codemirror_mode": {
    "name": "ipython",
    "version": 3
   },
   "file_extension": ".py",
   "mimetype": "text/x-python",
   "name": "python",
   "nbconvert_exporter": "python",
   "pygments_lexer": "ipython3",
   "version": "3.12.3"
  }
 },
 "nbformat": 4,
 "nbformat_minor": 5
}
